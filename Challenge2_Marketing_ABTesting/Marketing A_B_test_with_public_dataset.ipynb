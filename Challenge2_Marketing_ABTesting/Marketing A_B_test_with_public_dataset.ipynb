{
 "cells": [
  {
   "cell_type": "markdown",
   "metadata": {},
   "source": [
    "# Instructions\n",
    "You are the growth analyst for a chain of department stores that ran 3 promotions recently. The Marketing team wants to know which promotion was the most effective in generating sales. You job is to inform the marketing team on the impact of the test.\n",
    "\n",
    "## Deliverable\n",
    "A short presentation of your analysis of this A/B test outlining which strategy was more effective and what recommendations you will make to the Marketing Department on what or any changes they should make for the next promotion."
   ]
  },
  {
   "cell_type": "markdown",
   "metadata": {},
   "source": [
    "### Descriptions of variables:\n",
    "MarketID\n",
    "    - Unique identifier for market\n",
    "MarketSize\n",
    "    - Size of market area by sales\n",
    "LocationID\n",
    "    - Unique identifier for store location\n",
    "AgeOfStore\n",
    "    - Age of store in years\n",
    "Promotion\n",
    "    - One of three promotions that was tested\n",
    "Week\n",
    "    - One of four weeks when the promotions were run\n",
    "SalesInThousands\n",
    "    - Sales amount for specific LocationID, Promotion, and week"
   ]
  },
  {
   "cell_type": "code",
   "execution_count": 44,
   "metadata": {},
   "outputs": [],
   "source": [
    "#Import libraries\n",
    "import pandas as pd\n",
    "import numpy as np\n",
    "from matplotlib import pyplot as plt\n",
    "import seaborn as sns"
   ]
  },
  {
   "cell_type": "code",
   "execution_count": 45,
   "metadata": {},
   "outputs": [],
   "source": [
    "df = pd.read_csv(\"https://raw.githubusercontent.com/pthiagu2/DataMining/master/WA_Fn-UseC_-Marketing-Campaign-Eff-UseC_-FastF.csv\")"
   ]
  },
  {
   "cell_type": "code",
   "execution_count": 83,
   "metadata": {},
   "outputs": [
    {
     "data": {
      "text/html": [
       "<div>\n",
       "<style scoped>\n",
       "    .dataframe tbody tr th:only-of-type {\n",
       "        vertical-align: middle;\n",
       "    }\n",
       "\n",
       "    .dataframe tbody tr th {\n",
       "        vertical-align: top;\n",
       "    }\n",
       "\n",
       "    .dataframe thead th {\n",
       "        text-align: right;\n",
       "    }\n",
       "</style>\n",
       "<table border=\"1\" class=\"dataframe\">\n",
       "  <thead>\n",
       "    <tr style=\"text-align: right;\">\n",
       "      <th></th>\n",
       "      <th>MarketID</th>\n",
       "      <th>MarketSize</th>\n",
       "      <th>LocationID</th>\n",
       "      <th>AgeOfStore</th>\n",
       "      <th>Promotion</th>\n",
       "      <th>week</th>\n",
       "      <th>SalesInThousands</th>\n",
       "    </tr>\n",
       "  </thead>\n",
       "  <tbody>\n",
       "    <tr>\n",
       "      <th>0</th>\n",
       "      <td>1</td>\n",
       "      <td>Medium</td>\n",
       "      <td>1</td>\n",
       "      <td>4</td>\n",
       "      <td>3</td>\n",
       "      <td>1</td>\n",
       "      <td>33.73</td>\n",
       "    </tr>\n",
       "    <tr>\n",
       "      <th>1</th>\n",
       "      <td>1</td>\n",
       "      <td>Medium</td>\n",
       "      <td>1</td>\n",
       "      <td>4</td>\n",
       "      <td>3</td>\n",
       "      <td>2</td>\n",
       "      <td>35.67</td>\n",
       "    </tr>\n",
       "    <tr>\n",
       "      <th>2</th>\n",
       "      <td>1</td>\n",
       "      <td>Medium</td>\n",
       "      <td>1</td>\n",
       "      <td>4</td>\n",
       "      <td>3</td>\n",
       "      <td>3</td>\n",
       "      <td>29.03</td>\n",
       "    </tr>\n",
       "    <tr>\n",
       "      <th>3</th>\n",
       "      <td>1</td>\n",
       "      <td>Medium</td>\n",
       "      <td>1</td>\n",
       "      <td>4</td>\n",
       "      <td>3</td>\n",
       "      <td>4</td>\n",
       "      <td>39.25</td>\n",
       "    </tr>\n",
       "    <tr>\n",
       "      <th>4</th>\n",
       "      <td>1</td>\n",
       "      <td>Medium</td>\n",
       "      <td>2</td>\n",
       "      <td>5</td>\n",
       "      <td>2</td>\n",
       "      <td>1</td>\n",
       "      <td>27.81</td>\n",
       "    </tr>\n",
       "  </tbody>\n",
       "</table>\n",
       "</div>"
      ],
      "text/plain": [
       "  MarketID MarketSize  LocationID  AgeOfStore Promotion  week  \\\n",
       "0        1     Medium           1           4         3     1   \n",
       "1        1     Medium           1           4         3     2   \n",
       "2        1     Medium           1           4         3     3   \n",
       "3        1     Medium           1           4         3     4   \n",
       "4        1     Medium           2           5         2     1   \n",
       "\n",
       "   SalesInThousands  \n",
       "0             33.73  \n",
       "1             35.67  \n",
       "2             29.03  \n",
       "3             39.25  \n",
       "4             27.81  "
      ]
     },
     "execution_count": 83,
     "metadata": {},
     "output_type": "execute_result"
    }
   ],
   "source": [
    "df.head()"
   ]
  },
  {
   "cell_type": "code",
   "execution_count": 47,
   "metadata": {},
   "outputs": [
    {
     "data": {
      "text/plain": [
       "Medium    320\n",
       "Large     168\n",
       "Small      60\n",
       "Name: MarketSize, dtype: int64"
      ]
     },
     "execution_count": 47,
     "metadata": {},
     "output_type": "execute_result"
    }
   ],
   "source": [
    "# What are the market size in our data\n",
    "df['MarketSize'].value_counts()"
   ]
  },
  {
   "cell_type": "code",
   "execution_count": 48,
   "metadata": {},
   "outputs": [
    {
     "name": "stdout",
     "output_type": "stream",
     "text": [
      "<class 'pandas.core.frame.DataFrame'>\n",
      "RangeIndex: 548 entries, 0 to 547\n",
      "Data columns (total 7 columns):\n",
      "MarketID            548 non-null int64\n",
      "MarketSize          548 non-null object\n",
      "LocationID          548 non-null int64\n",
      "AgeOfStore          548 non-null int64\n",
      "Promotion           548 non-null int64\n",
      "week                548 non-null int64\n",
      "SalesInThousands    548 non-null float64\n",
      "dtypes: float64(1), int64(5), object(1)\n",
      "memory usage: 30.0+ KB\n"
     ]
    }
   ],
   "source": [
    "# Data Exploration\n",
    "#Use summary statistics to spot problems & errors\n",
    "df.info() # no missing data"
   ]
  },
  {
   "cell_type": "code",
   "execution_count": 49,
   "metadata": {},
   "outputs": [
    {
     "data": {
      "text/plain": [
       "False"
      ]
     },
     "execution_count": 49,
     "metadata": {},
     "output_type": "execute_result"
    }
   ],
   "source": [
    "df.isnull().values.any() # no missing values"
   ]
  },
  {
   "cell_type": "code",
   "execution_count": 84,
   "metadata": {},
   "outputs": [
    {
     "data": {
      "text/plain": [
       "False    548\n",
       "dtype: int64"
      ]
     },
     "execution_count": 84,
     "metadata": {},
     "output_type": "execute_result"
    }
   ],
   "source": [
    "df.duplicated().value_counts() #no duplication of data"
   ]
  },
  {
   "cell_type": "code",
   "execution_count": 50,
   "metadata": {},
   "outputs": [
    {
     "data": {
      "text/html": [
       "<div>\n",
       "<style scoped>\n",
       "    .dataframe tbody tr th:only-of-type {\n",
       "        vertical-align: middle;\n",
       "    }\n",
       "\n",
       "    .dataframe tbody tr th {\n",
       "        vertical-align: top;\n",
       "    }\n",
       "\n",
       "    .dataframe thead th {\n",
       "        text-align: right;\n",
       "    }\n",
       "</style>\n",
       "<table border=\"1\" class=\"dataframe\">\n",
       "  <thead>\n",
       "    <tr style=\"text-align: right;\">\n",
       "      <th></th>\n",
       "      <th>MarketID</th>\n",
       "      <th>LocationID</th>\n",
       "      <th>AgeOfStore</th>\n",
       "      <th>Promotion</th>\n",
       "      <th>week</th>\n",
       "      <th>SalesInThousands</th>\n",
       "    </tr>\n",
       "  </thead>\n",
       "  <tbody>\n",
       "    <tr>\n",
       "      <th>count</th>\n",
       "      <td>548.000000</td>\n",
       "      <td>548.000000</td>\n",
       "      <td>548.000000</td>\n",
       "      <td>548.000000</td>\n",
       "      <td>548.000000</td>\n",
       "      <td>548.000000</td>\n",
       "    </tr>\n",
       "    <tr>\n",
       "      <th>mean</th>\n",
       "      <td>5.715328</td>\n",
       "      <td>479.656934</td>\n",
       "      <td>8.503650</td>\n",
       "      <td>2.029197</td>\n",
       "      <td>2.500000</td>\n",
       "      <td>53.466204</td>\n",
       "    </tr>\n",
       "    <tr>\n",
       "      <th>std</th>\n",
       "      <td>2.877001</td>\n",
       "      <td>287.973679</td>\n",
       "      <td>6.638345</td>\n",
       "      <td>0.810729</td>\n",
       "      <td>1.119055</td>\n",
       "      <td>16.755216</td>\n",
       "    </tr>\n",
       "    <tr>\n",
       "      <th>min</th>\n",
       "      <td>1.000000</td>\n",
       "      <td>1.000000</td>\n",
       "      <td>1.000000</td>\n",
       "      <td>1.000000</td>\n",
       "      <td>1.000000</td>\n",
       "      <td>17.340000</td>\n",
       "    </tr>\n",
       "    <tr>\n",
       "      <th>25%</th>\n",
       "      <td>3.000000</td>\n",
       "      <td>216.000000</td>\n",
       "      <td>4.000000</td>\n",
       "      <td>1.000000</td>\n",
       "      <td>1.750000</td>\n",
       "      <td>42.545000</td>\n",
       "    </tr>\n",
       "    <tr>\n",
       "      <th>50%</th>\n",
       "      <td>6.000000</td>\n",
       "      <td>504.000000</td>\n",
       "      <td>7.000000</td>\n",
       "      <td>2.000000</td>\n",
       "      <td>2.500000</td>\n",
       "      <td>50.200000</td>\n",
       "    </tr>\n",
       "    <tr>\n",
       "      <th>75%</th>\n",
       "      <td>8.000000</td>\n",
       "      <td>708.000000</td>\n",
       "      <td>12.000000</td>\n",
       "      <td>3.000000</td>\n",
       "      <td>3.250000</td>\n",
       "      <td>60.477500</td>\n",
       "    </tr>\n",
       "    <tr>\n",
       "      <th>max</th>\n",
       "      <td>10.000000</td>\n",
       "      <td>920.000000</td>\n",
       "      <td>28.000000</td>\n",
       "      <td>3.000000</td>\n",
       "      <td>4.000000</td>\n",
       "      <td>99.650000</td>\n",
       "    </tr>\n",
       "  </tbody>\n",
       "</table>\n",
       "</div>"
      ],
      "text/plain": [
       "         MarketID  LocationID  AgeOfStore   Promotion        week  \\\n",
       "count  548.000000  548.000000  548.000000  548.000000  548.000000   \n",
       "mean     5.715328  479.656934    8.503650    2.029197    2.500000   \n",
       "std      2.877001  287.973679    6.638345    0.810729    1.119055   \n",
       "min      1.000000    1.000000    1.000000    1.000000    1.000000   \n",
       "25%      3.000000  216.000000    4.000000    1.000000    1.750000   \n",
       "50%      6.000000  504.000000    7.000000    2.000000    2.500000   \n",
       "75%      8.000000  708.000000   12.000000    3.000000    3.250000   \n",
       "max     10.000000  920.000000   28.000000    3.000000    4.000000   \n",
       "\n",
       "       SalesInThousands  \n",
       "count        548.000000  \n",
       "mean          53.466204  \n",
       "std           16.755216  \n",
       "min           17.340000  \n",
       "25%           42.545000  \n",
       "50%           50.200000  \n",
       "75%           60.477500  \n",
       "max           99.650000  "
      ]
     },
     "execution_count": 50,
     "metadata": {},
     "output_type": "execute_result"
    }
   ],
   "source": [
    "df.describe()"
   ]
  },
  {
   "cell_type": "code",
   "execution_count": 51,
   "metadata": {},
   "outputs": [],
   "source": [
    "#Check for skew and outliers (histogram)"
   ]
  },
  {
   "cell_type": "code",
   "execution_count": 52,
   "metadata": {},
   "outputs": [
    {
     "data": {
      "text/html": [
       "<div>\n",
       "<style scoped>\n",
       "    .dataframe tbody tr th:only-of-type {\n",
       "        vertical-align: middle;\n",
       "    }\n",
       "\n",
       "    .dataframe tbody tr th {\n",
       "        vertical-align: top;\n",
       "    }\n",
       "\n",
       "    .dataframe thead th {\n",
       "        text-align: right;\n",
       "    }\n",
       "</style>\n",
       "<table border=\"1\" class=\"dataframe\">\n",
       "  <thead>\n",
       "    <tr style=\"text-align: right;\">\n",
       "      <th></th>\n",
       "      <th>count</th>\n",
       "      <th>mean</th>\n",
       "      <th>std</th>\n",
       "      <th>min</th>\n",
       "      <th>25%</th>\n",
       "      <th>50%</th>\n",
       "      <th>75%</th>\n",
       "      <th>max</th>\n",
       "    </tr>\n",
       "    <tr>\n",
       "      <th>Promotion</th>\n",
       "      <th></th>\n",
       "      <th></th>\n",
       "      <th></th>\n",
       "      <th></th>\n",
       "      <th></th>\n",
       "      <th></th>\n",
       "      <th></th>\n",
       "      <th></th>\n",
       "    </tr>\n",
       "  </thead>\n",
       "  <tbody>\n",
       "    <tr>\n",
       "      <th>1</th>\n",
       "      <td>172.0</td>\n",
       "      <td>5.790698</td>\n",
       "      <td>2.993624</td>\n",
       "      <td>1.0</td>\n",
       "      <td>3.0</td>\n",
       "      <td>6.0</td>\n",
       "      <td>8.0</td>\n",
       "      <td>10.0</td>\n",
       "    </tr>\n",
       "    <tr>\n",
       "      <th>2</th>\n",
       "      <td>188.0</td>\n",
       "      <td>5.893617</td>\n",
       "      <td>2.897419</td>\n",
       "      <td>1.0</td>\n",
       "      <td>4.0</td>\n",
       "      <td>6.0</td>\n",
       "      <td>9.0</td>\n",
       "      <td>10.0</td>\n",
       "    </tr>\n",
       "    <tr>\n",
       "      <th>3</th>\n",
       "      <td>188.0</td>\n",
       "      <td>5.468085</td>\n",
       "      <td>2.742816</td>\n",
       "      <td>1.0</td>\n",
       "      <td>3.0</td>\n",
       "      <td>6.0</td>\n",
       "      <td>8.0</td>\n",
       "      <td>10.0</td>\n",
       "    </tr>\n",
       "  </tbody>\n",
       "</table>\n",
       "</div>"
      ],
      "text/plain": [
       "           count      mean       std  min  25%  50%  75%   max\n",
       "Promotion                                                     \n",
       "1          172.0  5.790698  2.993624  1.0  3.0  6.0  8.0  10.0\n",
       "2          188.0  5.893617  2.897419  1.0  4.0  6.0  9.0  10.0\n",
       "3          188.0  5.468085  2.742816  1.0  3.0  6.0  8.0  10.0"
      ]
     },
     "execution_count": 52,
     "metadata": {},
     "output_type": "execute_result"
    }
   ],
   "source": [
    "df.groupby('Promotion')['MarketID'].describe()"
   ]
  },
  {
   "cell_type": "code",
   "execution_count": 53,
   "metadata": {},
   "outputs": [
    {
     "data": {
      "text/plain": [
       "Promotion  MarketID\n",
       "1          1           20\n",
       "           2            4\n",
       "           3           28\n",
       "           4           16\n",
       "           5            8\n",
       "           6           20\n",
       "           7           16\n",
       "           8           20\n",
       "           9           12\n",
       "           10          28\n",
       "2          1           20\n",
       "           3           24\n",
       "           4           16\n",
       "           5           32\n",
       "           6           24\n",
       "           7           16\n",
       "           8            8\n",
       "           9            8\n",
       "           10          40\n",
       "3          1           12\n",
       "           2           20\n",
       "           3           36\n",
       "           4            4\n",
       "           5           20\n",
       "           6           16\n",
       "           7           28\n",
       "           8           20\n",
       "           9           20\n",
       "           10          12\n",
       "Name: SalesInThousands, dtype: int64"
      ]
     },
     "execution_count": 53,
     "metadata": {},
     "output_type": "execute_result"
    }
   ],
   "source": [
    "marketID_by_promotion = df.groupby(['Promotion','MarketID'])['SalesInThousands'].count() # count() return a dataframe & NOT count missing values\n",
    "marketID_by_promotion"
   ]
  },
  {
   "cell_type": "code",
   "execution_count": 54,
   "metadata": {},
   "outputs": [
    {
     "data": {
      "image/png": "[encoded data removed]",
      "text/plain": [
       "<Figure size 432x288 with 1 Axes>"
      ]
     },
     "metadata": {
      "needs_background": "light"
     },
     "output_type": "display_data"
    }
   ],
   "source": [
    "#Visually check distributions for single variables\n",
    "axis = marketID_by_promotion.unstack().plot(kind=\"bar\", stacked=True) "
   ]
  },
  {
   "cell_type": "code",
   "execution_count": 55,
   "metadata": {},
   "outputs": [
    {
     "data": {
      "image/png": "[encoded data removed]",
      "text/plain": [
       "<Figure size 432x288 with 1 Axes>"
      ]
     },
     "metadata": {
      "needs_background": "light"
     },
     "output_type": "display_data"
    }
   ],
   "source": [
    "# Alternatives\n",
    "df.groupby(['Promotion','MarketID']).size().unstack().plot(kind='bar',stacked=True) # size() return a series\n",
    "plt.show()"
   ]
  },
  {
   "cell_type": "markdown",
   "metadata": {},
   "source": [
    "# Findings\n",
    "In the above graph, we can see MarketID = 2 is missing in promotion 2;\n",
    "[Action] We need to investigate the reasons beyond\n",
    "Should we exclude promotion 2 in our analysis? (Purpose: to make sure we have fair analysis next time)"
   ]
  },
  {
   "cell_type": "code",
   "execution_count": 56,
   "metadata": {},
   "outputs": [
    {
     "data": {
      "text/plain": [
       "Promotion  week\n",
       "1          1       43\n",
       "           2       43\n",
       "           3       43\n",
       "           4       43\n",
       "2          1       47\n",
       "           2       47\n",
       "           3       47\n",
       "           4       47\n",
       "3          1       47\n",
       "           2       47\n",
       "           3       47\n",
       "           4       47\n",
       "Name: SalesInThousands, dtype: int64"
      ]
     },
     "execution_count": 56,
     "metadata": {},
     "output_type": "execute_result"
    }
   ],
   "source": [
    "week_by_promotion = df.groupby(['Promotion','week'])['SalesInThousands'].count() # count() return a dataframe & NOT count missing values\n",
    "week_by_promotion"
   ]
  },
  {
   "cell_type": "code",
   "execution_count": 57,
   "metadata": {},
   "outputs": [
    {
     "data": {
      "text/plain": [
       "<matplotlib.axes._subplots.AxesSubplot at 0x1a264077b8>"
      ]
     },
     "execution_count": 57,
     "metadata": {},
     "output_type": "execute_result"
    },
    {
     "data": {
      "image/png": "[encoded data removed]",
      "text/plain": [
       "<Figure size 432x288 with 1 Axes>"
      ]
     },
     "metadata": {
      "needs_background": "light"
     },
     "output_type": "display_data"
    }
   ],
   "source": [
    "# Visually check distributions for single variables\n",
    "df.groupby(['Promotion','week']).size().unstack().plot(kind='bar',stacked=True)"
   ]
  },
  {
   "cell_type": "code",
   "execution_count": 58,
   "metadata": {},
   "outputs": [
    {
     "data": {
      "text/html": [
       "<div>\n",
       "<style scoped>\n",
       "    .dataframe tbody tr th:only-of-type {\n",
       "        vertical-align: middle;\n",
       "    }\n",
       "\n",
       "    .dataframe tbody tr th {\n",
       "        vertical-align: top;\n",
       "    }\n",
       "\n",
       "    .dataframe thead th {\n",
       "        text-align: right;\n",
       "    }\n",
       "</style>\n",
       "<table border=\"1\" class=\"dataframe\">\n",
       "  <thead>\n",
       "    <tr style=\"text-align: right;\">\n",
       "      <th></th>\n",
       "      <th>count</th>\n",
       "      <th>mean</th>\n",
       "      <th>std</th>\n",
       "      <th>min</th>\n",
       "      <th>25%</th>\n",
       "      <th>50%</th>\n",
       "      <th>75%</th>\n",
       "      <th>max</th>\n",
       "    </tr>\n",
       "    <tr>\n",
       "      <th>Promotion</th>\n",
       "      <th></th>\n",
       "      <th></th>\n",
       "      <th></th>\n",
       "      <th></th>\n",
       "      <th></th>\n",
       "      <th></th>\n",
       "      <th></th>\n",
       "      <th></th>\n",
       "    </tr>\n",
       "  </thead>\n",
       "  <tbody>\n",
       "    <tr>\n",
       "      <th>1</th>\n",
       "      <td>172.0</td>\n",
       "      <td>2.5</td>\n",
       "      <td>1.121298</td>\n",
       "      <td>1.0</td>\n",
       "      <td>1.75</td>\n",
       "      <td>2.5</td>\n",
       "      <td>3.25</td>\n",
       "      <td>4.0</td>\n",
       "    </tr>\n",
       "    <tr>\n",
       "      <th>2</th>\n",
       "      <td>188.0</td>\n",
       "      <td>2.5</td>\n",
       "      <td>1.121019</td>\n",
       "      <td>1.0</td>\n",
       "      <td>1.75</td>\n",
       "      <td>2.5</td>\n",
       "      <td>3.25</td>\n",
       "      <td>4.0</td>\n",
       "    </tr>\n",
       "    <tr>\n",
       "      <th>3</th>\n",
       "      <td>188.0</td>\n",
       "      <td>2.5</td>\n",
       "      <td>1.121019</td>\n",
       "      <td>1.0</td>\n",
       "      <td>1.75</td>\n",
       "      <td>2.5</td>\n",
       "      <td>3.25</td>\n",
       "      <td>4.0</td>\n",
       "    </tr>\n",
       "  </tbody>\n",
       "</table>\n",
       "</div>"
      ],
      "text/plain": [
       "           count  mean       std  min   25%  50%   75%  max\n",
       "Promotion                                                  \n",
       "1          172.0   2.5  1.121298  1.0  1.75  2.5  3.25  4.0\n",
       "2          188.0   2.5  1.121019  1.0  1.75  2.5  3.25  4.0\n",
       "3          188.0   2.5  1.121019  1.0  1.75  2.5  3.25  4.0"
      ]
     },
     "execution_count": 58,
     "metadata": {},
     "output_type": "execute_result"
    }
   ],
   "source": [
    "df.groupby('Promotion')['week'].describe() # Normally distributed"
   ]
  },
  {
   "cell_type": "code",
   "execution_count": 87,
   "metadata": {},
   "outputs": [
    {
     "data": {
      "text/html": [
       "<div>\n",
       "<style scoped>\n",
       "    .dataframe tbody tr th:only-of-type {\n",
       "        vertical-align: middle;\n",
       "    }\n",
       "\n",
       "    .dataframe tbody tr th {\n",
       "        vertical-align: top;\n",
       "    }\n",
       "\n",
       "    .dataframe thead th {\n",
       "        text-align: right;\n",
       "    }\n",
       "</style>\n",
       "<table border=\"1\" class=\"dataframe\">\n",
       "  <thead>\n",
       "    <tr style=\"text-align: right;\">\n",
       "      <th></th>\n",
       "      <th>count</th>\n",
       "      <th>mean</th>\n",
       "      <th>std</th>\n",
       "      <th>min</th>\n",
       "      <th>25%</th>\n",
       "      <th>50%</th>\n",
       "      <th>75%</th>\n",
       "      <th>max</th>\n",
       "    </tr>\n",
       "    <tr>\n",
       "      <th>Promotion</th>\n",
       "      <th></th>\n",
       "      <th></th>\n",
       "      <th></th>\n",
       "      <th></th>\n",
       "      <th></th>\n",
       "      <th></th>\n",
       "      <th></th>\n",
       "      <th></th>\n",
       "    </tr>\n",
       "  </thead>\n",
       "  <tbody>\n",
       "    <tr>\n",
       "      <th>1</th>\n",
       "      <td>172.0</td>\n",
       "      <td>8.279070</td>\n",
       "      <td>6.636160</td>\n",
       "      <td>1.0</td>\n",
       "      <td>3.0</td>\n",
       "      <td>6.0</td>\n",
       "      <td>12.0</td>\n",
       "      <td>27.0</td>\n",
       "    </tr>\n",
       "    <tr>\n",
       "      <th>2</th>\n",
       "      <td>188.0</td>\n",
       "      <td>7.978723</td>\n",
       "      <td>6.597648</td>\n",
       "      <td>1.0</td>\n",
       "      <td>3.0</td>\n",
       "      <td>7.0</td>\n",
       "      <td>10.0</td>\n",
       "      <td>28.0</td>\n",
       "    </tr>\n",
       "    <tr>\n",
       "      <th>3</th>\n",
       "      <td>188.0</td>\n",
       "      <td>9.234043</td>\n",
       "      <td>6.651646</td>\n",
       "      <td>1.0</td>\n",
       "      <td>5.0</td>\n",
       "      <td>8.0</td>\n",
       "      <td>12.0</td>\n",
       "      <td>24.0</td>\n",
       "    </tr>\n",
       "  </tbody>\n",
       "</table>\n",
       "</div>"
      ],
      "text/plain": [
       "           count      mean       std  min  25%  50%   75%   max\n",
       "Promotion                                                      \n",
       "1          172.0  8.279070  6.636160  1.0  3.0  6.0  12.0  27.0\n",
       "2          188.0  7.978723  6.597648  1.0  3.0  7.0  10.0  28.0\n",
       "3          188.0  9.234043  6.651646  1.0  5.0  8.0  12.0  24.0"
      ]
     },
     "execution_count": 87,
     "metadata": {},
     "output_type": "execute_result"
    }
   ],
   "source": [
    "df.groupby('Promotion')['AgeOfStore'].describe() # Normally distributed"
   ]
  },
  {
   "cell_type": "code",
   "execution_count": 85,
   "metadata": {},
   "outputs": [
    {
     "data": {
      "text/plain": [
       "<matplotlib.axes._subplots.AxesSubplot at 0x1a267062e8>"
      ]
     },
     "execution_count": 85,
     "metadata": {},
     "output_type": "execute_result"
    },
    {
     "data": {
      "image/png": "[encoded data removed]",
      "text/plain": [
       "<Figure size 432x288 with 1 Axes>"
      ]
     },
     "metadata": {
      "needs_background": "light"
     },
     "output_type": "display_data"
    }
   ],
   "source": [
    "store_age_by_promotion = df.groupby(['AgeOfStore','Promotion'])['SalesInThousands'].sum()\n",
    "#store_age_by_promotion\n",
    "store_age_by_promotion.unstack().plot(kind=\"bar\", stacked=True) \n",
    "# It seemed that the stores generate higher sales with promotion for younger age of store. (Futher test is possible, but it is out of our current scope)"
   ]
  },
  {
   "cell_type": "code",
   "execution_count": 86,
   "metadata": {},
   "outputs": [
    {
     "data": {
      "text/plain": [
       "<matplotlib.axes._subplots.AxesSubplot at 0x1a26da2e80>"
      ]
     },
     "execution_count": 86,
     "metadata": {},
     "output_type": "execute_result"
    },
    {
     "data": {
      "image/png": "[encoded data removed]",
      "text/plain": [
       "<Figure size 432x288 with 1 Axes>"
      ]
     },
     "metadata": {
      "needs_background": "light"
     },
     "output_type": "display_data"
    }
   ],
   "source": [
    "marketID_by_promotion = df.groupby(['MarketID','Promotion'])['SalesInThousands'].sum()\n",
    "marketID_by_promotion\n",
    "marketID_by_promotion.unstack().plot(kind=\"bar\", stacked=True) \n",
    "#It seemed that Market 3 generates higher sales with promotion compared to the rest of markets. (Futher test is possible, but it is out of our current scope)"
   ]
  },
  {
   "cell_type": "code",
   "execution_count": 61,
   "metadata": {},
   "outputs": [
    {
     "data": {
      "text/plain": [
       "<matplotlib.axes._subplots.AxesSubplot at 0x1a267c7898>"
      ]
     },
     "execution_count": 61,
     "metadata": {},
     "output_type": "execute_result"
    },
    {
     "data": {
      "image/png": "[encoded data removed]",
      "text/plain": [
       "<Figure size 432x288 with 1 Axes>"
      ]
     },
     "metadata": {
      "needs_background": "light"
     },
     "output_type": "display_data"
    }
   ],
   "source": [
    "week_by_promotion = df.groupby(['week','Promotion'])['SalesInThousands'].sum()\n",
    "week_by_promotion.unstack().plot(kind=\"bar\", stacked=True)\n",
    "# It seemed that it doesn't matter when the promotion starts"
   ]
  },
  {
   "cell_type": "code",
   "execution_count": 89,
   "metadata": {},
   "outputs": [
    {
     "data": {
      "text/html": [
       "<div>\n",
       "<style scoped>\n",
       "    .dataframe tbody tr th:only-of-type {\n",
       "        vertical-align: middle;\n",
       "    }\n",
       "\n",
       "    .dataframe tbody tr th {\n",
       "        vertical-align: top;\n",
       "    }\n",
       "\n",
       "    .dataframe thead th {\n",
       "        text-align: right;\n",
       "    }\n",
       "</style>\n",
       "<table border=\"1\" class=\"dataframe\">\n",
       "  <thead>\n",
       "    <tr style=\"text-align: right;\">\n",
       "      <th></th>\n",
       "      <th>count</th>\n",
       "      <th>mean</th>\n",
       "      <th>std</th>\n",
       "      <th>min</th>\n",
       "      <th>25%</th>\n",
       "      <th>50%</th>\n",
       "      <th>75%</th>\n",
       "      <th>max</th>\n",
       "    </tr>\n",
       "    <tr>\n",
       "      <th>Promotion</th>\n",
       "      <th></th>\n",
       "      <th></th>\n",
       "      <th></th>\n",
       "      <th></th>\n",
       "      <th></th>\n",
       "      <th></th>\n",
       "      <th></th>\n",
       "      <th></th>\n",
       "    </tr>\n",
       "  </thead>\n",
       "  <tbody>\n",
       "    <tr>\n",
       "      <th>1</th>\n",
       "      <td>172.0</td>\n",
       "      <td>58.099012</td>\n",
       "      <td>16.553782</td>\n",
       "      <td>30.81</td>\n",
       "      <td>46.3525</td>\n",
       "      <td>55.385</td>\n",
       "      <td>63.6175</td>\n",
       "      <td>99.65</td>\n",
       "    </tr>\n",
       "    <tr>\n",
       "      <th>2</th>\n",
       "      <td>188.0</td>\n",
       "      <td>47.329415</td>\n",
       "      <td>15.108955</td>\n",
       "      <td>17.34</td>\n",
       "      <td>38.1700</td>\n",
       "      <td>45.385</td>\n",
       "      <td>51.7450</td>\n",
       "      <td>88.64</td>\n",
       "    </tr>\n",
       "    <tr>\n",
       "      <th>3</th>\n",
       "      <td>188.0</td>\n",
       "      <td>55.364468</td>\n",
       "      <td>16.766231</td>\n",
       "      <td>22.18</td>\n",
       "      <td>44.1975</td>\n",
       "      <td>51.165</td>\n",
       "      <td>61.7325</td>\n",
       "      <td>96.48</td>\n",
       "    </tr>\n",
       "  </tbody>\n",
       "</table>\n",
       "</div>"
      ],
      "text/plain": [
       "           count       mean        std    min      25%     50%      75%    max\n",
       "Promotion                                                                     \n",
       "1          172.0  58.099012  16.553782  30.81  46.3525  55.385  63.6175  99.65\n",
       "2          188.0  47.329415  15.108955  17.34  38.1700  45.385  51.7450  88.64\n",
       "3          188.0  55.364468  16.766231  22.18  44.1975  51.165  61.7325  96.48"
      ]
     },
     "execution_count": 89,
     "metadata": {},
     "output_type": "execute_result"
    }
   ],
   "source": [
    "df.groupby('Promotion')['SalesInThousands'].describe()"
   ]
  },
  {
   "cell_type": "code",
   "execution_count": 149,
   "metadata": {},
   "outputs": [
    {
     "data": {
      "image/png": "[encoded data removed]",
      "text/plain": [
       "<Figure size 720x576 with 1 Axes>"
      ]
     },
     "metadata": {
      "needs_background": "light"
     },
     "output_type": "display_data"
    }
   ],
   "source": [
    "#%matplotlib inline\n",
    "data_1 = df[df['Promotion']==1]['SalesInThousands']\n",
    "data_2 = df[df['Promotion']==2]['SalesInThousands']\n",
    "data_3 = df[df['Promotion']==3]['SalesInThousands']\n",
    "total_sales_average = df['SalesInThousands'].mean()\n",
    "total_sales_median = df['SalesInThousands'].median()\n",
    "\n",
    "plt.figure(figsize=(10,8))\n",
    "plt.axvline(total_sales_average, color='black', linestyle='dashed', linewidth=2, label=\"Mean\")\n",
    "plt.axvline(total_sales_median, color='grey', linestyle='dotted', linewidth=2, label=\"Median\")\n",
    "plt.hist(data_1, bins = 10,histtype = 'step', linewidth = 2, density=True) # 'step' - to make these histograms more visible.\n",
    "plt.hist(data_2, bins = 10, histtype = 'step',linewidth = 2, density=True)\n",
    "plt.hist(data_3, bins = 10, histtype = 'step',linewidth = 2, density=True)\n",
    "plt.legend(['Mean','Median','Promotion 1', 'Promotion 2', 'Promotion 3'])\n",
    "plt.title('Sales Distribution by Promotions', fontsize = 12)\n",
    "plt.xlabel('Sales in Percentage')\n",
    "plt.ylabel('Frequency')\n",
    "#plt.savefig('my_histogram.png')\n",
    "plt.show()\n",
    "#Normally distributed among different groups"
   ]
  },
  {
   "cell_type": "code",
   "execution_count": 62,
   "metadata": {},
   "outputs": [
    {
     "data": {
      "text/plain": [
       "MarketID            category\n",
       "MarketSize            object\n",
       "LocationID             int64\n",
       "AgeOfStore             int64\n",
       "Promotion           category\n",
       "week                   int64\n",
       "SalesInThousands     float64\n",
       "dtype: object"
      ]
     },
     "execution_count": 62,
     "metadata": {},
     "output_type": "execute_result"
    }
   ],
   "source": [
    "df['Promotion'] = df['Promotion'].astype('category')\n",
    "df['MarketID'] = df['MarketID'].astype('category')\n",
    "df.dtypes"
   ]
  },
  {
   "cell_type": "code",
   "execution_count": 63,
   "metadata": {},
   "outputs": [
    {
     "data": {
      "text/html": [
       "<div>\n",
       "<style scoped>\n",
       "    .dataframe tbody tr th:only-of-type {\n",
       "        vertical-align: middle;\n",
       "    }\n",
       "\n",
       "    .dataframe tbody tr th {\n",
       "        vertical-align: top;\n",
       "    }\n",
       "\n",
       "    .dataframe thead tr th {\n",
       "        text-align: left;\n",
       "    }\n",
       "\n",
       "    .dataframe thead tr:last-of-type th {\n",
       "        text-align: right;\n",
       "    }\n",
       "</style>\n",
       "<table border=\"1\" class=\"dataframe\">\n",
       "  <thead>\n",
       "    <tr>\n",
       "      <th></th>\n",
       "      <th></th>\n",
       "      <th colspan=\"6\" halign=\"left\">SalesInThousands</th>\n",
       "    </tr>\n",
       "    <tr>\n",
       "      <th></th>\n",
       "      <th></th>\n",
       "      <th>min</th>\n",
       "      <th>median</th>\n",
       "      <th>mean</th>\n",
       "      <th>std</th>\n",
       "      <th>max</th>\n",
       "      <th>sum</th>\n",
       "    </tr>\n",
       "    <tr>\n",
       "      <th>Promotion</th>\n",
       "      <th>week</th>\n",
       "      <th></th>\n",
       "      <th></th>\n",
       "      <th></th>\n",
       "      <th></th>\n",
       "      <th></th>\n",
       "      <th></th>\n",
       "    </tr>\n",
       "  </thead>\n",
       "  <tbody>\n",
       "    <tr>\n",
       "      <th rowspan=\"4\" valign=\"top\">1</th>\n",
       "      <th>1</th>\n",
       "      <td>35.30</td>\n",
       "      <td>53.79</td>\n",
       "      <td>58.244419</td>\n",
       "      <td>16.798929</td>\n",
       "      <td>99.65</td>\n",
       "      <td>2504.51</td>\n",
       "    </tr>\n",
       "    <tr>\n",
       "      <th>2</th>\n",
       "      <td>35.86</td>\n",
       "      <td>55.11</td>\n",
       "      <td>56.929535</td>\n",
       "      <td>16.553088</td>\n",
       "      <td>96.01</td>\n",
       "      <td>2447.97</td>\n",
       "    </tr>\n",
       "    <tr>\n",
       "      <th>3</th>\n",
       "      <td>32.05</td>\n",
       "      <td>56.19</td>\n",
       "      <td>58.774884</td>\n",
       "      <td>16.423121</td>\n",
       "      <td>99.12</td>\n",
       "      <td>2527.32</td>\n",
       "    </tr>\n",
       "    <tr>\n",
       "      <th>4</th>\n",
       "      <td>30.81</td>\n",
       "      <td>56.84</td>\n",
       "      <td>58.447209</td>\n",
       "      <td>16.962984</td>\n",
       "      <td>97.61</td>\n",
       "      <td>2513.23</td>\n",
       "    </tr>\n",
       "    <tr>\n",
       "      <th rowspan=\"4\" valign=\"top\">2</th>\n",
       "      <th>1</th>\n",
       "      <td>27.81</td>\n",
       "      <td>46.02</td>\n",
       "      <td>47.730213</td>\n",
       "      <td>14.387406</td>\n",
       "      <td>88.64</td>\n",
       "      <td>2243.32</td>\n",
       "    </tr>\n",
       "    <tr>\n",
       "      <th>2</th>\n",
       "      <td>17.34</td>\n",
       "      <td>45.75</td>\n",
       "      <td>47.582553</td>\n",
       "      <td>14.854098</td>\n",
       "      <td>82.86</td>\n",
       "      <td>2236.38</td>\n",
       "    </tr>\n",
       "    <tr>\n",
       "      <th>3</th>\n",
       "      <td>23.93</td>\n",
       "      <td>45.35</td>\n",
       "      <td>47.722128</td>\n",
       "      <td>15.979831</td>\n",
       "      <td>88.12</td>\n",
       "      <td>2242.94</td>\n",
       "    </tr>\n",
       "    <tr>\n",
       "      <th>4</th>\n",
       "      <td>19.26</td>\n",
       "      <td>44.84</td>\n",
       "      <td>46.282766</td>\n",
       "      <td>15.604704</td>\n",
       "      <td>80.75</td>\n",
       "      <td>2175.29</td>\n",
       "    </tr>\n",
       "    <tr>\n",
       "      <th rowspan=\"4\" valign=\"top\">3</th>\n",
       "      <th>1</th>\n",
       "      <td>24.75</td>\n",
       "      <td>51.01</td>\n",
       "      <td>55.776170</td>\n",
       "      <td>18.071909</td>\n",
       "      <td>96.48</td>\n",
       "      <td>2621.48</td>\n",
       "    </tr>\n",
       "    <tr>\n",
       "      <th>2</th>\n",
       "      <td>22.18</td>\n",
       "      <td>53.47</td>\n",
       "      <td>55.949149</td>\n",
       "      <td>15.643490</td>\n",
       "      <td>90.30</td>\n",
       "      <td>2629.61</td>\n",
       "    </tr>\n",
       "    <tr>\n",
       "      <th>3</th>\n",
       "      <td>29.03</td>\n",
       "      <td>50.55</td>\n",
       "      <td>54.377872</td>\n",
       "      <td>17.219269</td>\n",
       "      <td>93.63</td>\n",
       "      <td>2555.76</td>\n",
       "    </tr>\n",
       "    <tr>\n",
       "      <th>4</th>\n",
       "      <td>26.68</td>\n",
       "      <td>50.05</td>\n",
       "      <td>55.354681</td>\n",
       "      <td>16.535599</td>\n",
       "      <td>94.21</td>\n",
       "      <td>2601.67</td>\n",
       "    </tr>\n",
       "  </tbody>\n",
       "</table>\n",
       "</div>"
      ],
      "text/plain": [
       "               SalesInThousands                                             \n",
       "                            min median       mean        std    max      sum\n",
       "Promotion week                                                              \n",
       "1         1               35.30  53.79  58.244419  16.798929  99.65  2504.51\n",
       "          2               35.86  55.11  56.929535  16.553088  96.01  2447.97\n",
       "          3               32.05  56.19  58.774884  16.423121  99.12  2527.32\n",
       "          4               30.81  56.84  58.447209  16.962984  97.61  2513.23\n",
       "2         1               27.81  46.02  47.730213  14.387406  88.64  2243.32\n",
       "          2               17.34  45.75  47.582553  14.854098  82.86  2236.38\n",
       "          3               23.93  45.35  47.722128  15.979831  88.12  2242.94\n",
       "          4               19.26  44.84  46.282766  15.604704  80.75  2175.29\n",
       "3         1               24.75  51.01  55.776170  18.071909  96.48  2621.48\n",
       "          2               22.18  53.47  55.949149  15.643490  90.30  2629.61\n",
       "          3               29.03  50.55  54.377872  17.219269  93.63  2555.76\n",
       "          4               26.68  50.05  55.354681  16.535599  94.21  2601.67"
      ]
     },
     "execution_count": 63,
     "metadata": {},
     "output_type": "execute_result"
    }
   ],
   "source": [
    "#Examine sales data grouped by promo and week\n",
    "promotion_summary = df.groupby(['Promotion','week']).agg({'SalesInThousands':['min','median','mean','std','max','sum']})\n",
    "promotion_summary"
   ]
  },
  {
   "cell_type": "markdown",
   "metadata": {},
   "source": [
    "#Reference: https://www.pythonfordatascience.org/anova-python/\n",
    "# Parametric test assumption\n",
    "- Population distributions are normal\n",
    "- Samples have equal variances\n",
    "- Independence\n",
    "The test statistic is the F-statistic and compares the mean square between samples to the mean square within sample \n",
    "\n",
    "The reason why it's called an one-way or one factor ANOVA even though there are 3 or more groups being tested is because those groups are under one categorical variable, such as race or education level, and the name is referring to the number of variables in the analysis and not the number of groups. If there are two variables being compared it would technically be called a two-way, or two factor, ANOVA if both variables are categorical, or it could be called an ANCOVA if the 2nd variable is continuous. The \"C\" doesn't stand for continuous, it stands for covariate.\n",
    "\n",
    "When working from the ANOVA framework, independent variables are sometimes referred to as factors and the number of groups within each variable are called levels, i.e. one variable with 3 categories could be referred to as a factor with 3 levels.\n"
   ]
  },
  {
   "cell_type": "code",
   "execution_count": 64,
   "metadata": {},
   "outputs": [
    {
     "name": "stdout",
     "output_type": "stream",
     "text": [
      "\n",
      "\n"
     ]
    },
    {
     "data": {
      "text/html": [
       "<div>\n",
       "<style scoped>\n",
       "    .dataframe tbody tr th:only-of-type {\n",
       "        vertical-align: middle;\n",
       "    }\n",
       "\n",
       "    .dataframe tbody tr th {\n",
       "        vertical-align: top;\n",
       "    }\n",
       "\n",
       "    .dataframe thead th {\n",
       "        text-align: right;\n",
       "    }\n",
       "</style>\n",
       "<table border=\"1\" class=\"dataframe\">\n",
       "  <thead>\n",
       "    <tr style=\"text-align: right;\">\n",
       "      <th></th>\n",
       "      <th>Variable</th>\n",
       "      <th>N</th>\n",
       "      <th>Mean</th>\n",
       "      <th>SD</th>\n",
       "      <th>SE</th>\n",
       "      <th>95% Conf.</th>\n",
       "      <th>Interval</th>\n",
       "    </tr>\n",
       "  </thead>\n",
       "  <tbody>\n",
       "    <tr>\n",
       "      <th>0</th>\n",
       "      <td>SalesInThousands</td>\n",
       "      <td>548.0</td>\n",
       "      <td>53.466204</td>\n",
       "      <td>16.755216</td>\n",
       "      <td>0.715747</td>\n",
       "      <td>52.060254</td>\n",
       "      <td>54.872154</td>\n",
       "    </tr>\n",
       "  </tbody>\n",
       "</table>\n",
       "</div>"
      ],
      "text/plain": [
       "           Variable      N       Mean         SD        SE  95% Conf.  \\\n",
       "0  SalesInThousands  548.0  53.466204  16.755216  0.715747  52.060254   \n",
       "\n",
       "    Interval  \n",
       "0  54.872154  "
      ]
     },
     "execution_count": 64,
     "metadata": {},
     "output_type": "execute_result"
    }
   ],
   "source": [
    "import researchpy as rp\n",
    "rp.summary_cont(df['SalesInThousands'])"
   ]
  },
  {
   "cell_type": "code",
   "execution_count": 65,
   "metadata": {},
   "outputs": [
    {
     "name": "stdout",
     "output_type": "stream",
     "text": [
      "\n",
      "\n"
     ]
    },
    {
     "data": {
      "text/html": [
       "<div>\n",
       "<style scoped>\n",
       "    .dataframe tbody tr th:only-of-type {\n",
       "        vertical-align: middle;\n",
       "    }\n",
       "\n",
       "    .dataframe tbody tr th {\n",
       "        vertical-align: top;\n",
       "    }\n",
       "\n",
       "    .dataframe thead th {\n",
       "        text-align: right;\n",
       "    }\n",
       "</style>\n",
       "<table border=\"1\" class=\"dataframe\">\n",
       "  <thead>\n",
       "    <tr style=\"text-align: right;\">\n",
       "      <th></th>\n",
       "      <th>N</th>\n",
       "      <th>Mean</th>\n",
       "      <th>SD</th>\n",
       "      <th>SE</th>\n",
       "      <th>95% Conf.</th>\n",
       "      <th>Interval</th>\n",
       "    </tr>\n",
       "    <tr>\n",
       "      <th>Promotion</th>\n",
       "      <th></th>\n",
       "      <th></th>\n",
       "      <th></th>\n",
       "      <th></th>\n",
       "      <th></th>\n",
       "      <th></th>\n",
       "    </tr>\n",
       "  </thead>\n",
       "  <tbody>\n",
       "    <tr>\n",
       "      <th>1</th>\n",
       "      <td>172</td>\n",
       "      <td>58.099012</td>\n",
       "      <td>16.553782</td>\n",
       "      <td>1.262214</td>\n",
       "      <td>55.617849</td>\n",
       "      <td>60.580174</td>\n",
       "    </tr>\n",
       "    <tr>\n",
       "      <th>2</th>\n",
       "      <td>188</td>\n",
       "      <td>47.329415</td>\n",
       "      <td>15.108955</td>\n",
       "      <td>1.101934</td>\n",
       "      <td>45.163858</td>\n",
       "      <td>49.494972</td>\n",
       "    </tr>\n",
       "    <tr>\n",
       "      <th>3</th>\n",
       "      <td>188</td>\n",
       "      <td>55.364468</td>\n",
       "      <td>16.766231</td>\n",
       "      <td>1.222803</td>\n",
       "      <td>52.961374</td>\n",
       "      <td>57.767562</td>\n",
       "    </tr>\n",
       "  </tbody>\n",
       "</table>\n",
       "</div>"
      ],
      "text/plain": [
       "             N       Mean         SD        SE  95% Conf.   Interval\n",
       "Promotion                                                           \n",
       "1          172  58.099012  16.553782  1.262214  55.617849  60.580174\n",
       "2          188  47.329415  15.108955  1.101934  45.163858  49.494972\n",
       "3          188  55.364468  16.766231  1.222803  52.961374  57.767562"
      ]
     },
     "execution_count": 65,
     "metadata": {},
     "output_type": "execute_result"
    }
   ],
   "source": [
    "rp.summary_cont(df['SalesInThousands'].groupby(df['Promotion']))"
   ]
  },
  {
   "cell_type": "code",
   "execution_count": 91,
   "metadata": {},
   "outputs": [],
   "source": [
    "from scipy.stats import ttest_ind\n",
    "import scipy.stats as stats\n",
    "\n",
    "from scipy.stats import f_oneway\n",
    "import numpy as np\n",
    "\n",
    "\n",
    "#f_statistic, pval = \n",
    "f_stats, pval = f_oneway(df['SalesInThousands'][df.Promotion == 1],\n",
    "                   df['SalesInThousands'][df.Promotion == 2],\n",
    "                   df['SalesInThousands'][df.Promotion == 3]\n",
    "                  )"
   ]
  },
  {
   "cell_type": "code",
   "execution_count": 67,
   "metadata": {},
   "outputs": [
    {
     "data": {
      "text/plain": [
       "True"
      ]
     },
     "execution_count": 67,
     "metadata": {},
     "output_type": "execute_result"
    }
   ],
   "source": [
    "#Is the p-value significant?\n",
    "pval <0.05"
   ]
  },
  {
   "cell_type": "markdown",
   "metadata": {},
   "source": [
    "# Interpretation\n",
    "Promotions were run to increase sales. The purpose of this study was to test for a difference between different promotions. The overall average was 53.5 thousands 95% CI(52.1,54.9) with group average of 58.1 95% CI(55.6,60.6) for Promotion 1; 47.3 95% CI(45.2, 49.5) for Promotion 2;55.4 95% CI(53.0, 57.8). There is a statistically significant difference between the promotions and their effects on sales, F= 21.95, p-value= 6.77e-10."
   ]
  },
  {
   "cell_type": "markdown",
   "metadata": {},
   "source": [
    "# Post-hoc tests\n",
    "In order to tell which groups differed significantly, post-hoc tests need to be conducted."
   ]
  },
  {
   "cell_type": "markdown",
   "metadata": {},
   "source": [
    "Assumptions for the test\n",
    "-Observations are independent within and among groups.\n",
    "-The groups for each mean in the test are normally distributed.\n",
    "-All groups have equal variances (Homogeneity of variance)"
   ]
  },
  {
   "cell_type": "code",
   "execution_count": 69,
   "metadata": {},
   "outputs": [
    {
     "data": {
      "text/plain": [
       "LeveneResult(statistic=1.2696787527507418, pvalue=0.2817514565692118)"
      ]
     },
     "execution_count": 69,
     "metadata": {},
     "output_type": "execute_result"
    }
   ],
   "source": [
    "stats.levene(df['SalesInThousands'][df.Promotion == 1],\n",
    "             df['SalesInThousands'][df.Promotion == 2],\n",
    "             df['SalesInThousands'][df.Promotion == 3]\n",
    "            )"
   ]
  },
  {
   "cell_type": "markdown",
   "metadata": {},
   "source": [
    "The Levene's test of homogeneity of variances is not significant which indicates that the groups have non-statistically significant difference in their varability. Again, it may be worthwhile to check this assumption visually as well."
   ]
  },
  {
   "cell_type": "code",
   "execution_count": 70,
   "metadata": {},
   "outputs": [
    {
     "data": {
      "image/png": "[encoded data removed]",
      "text/plain": [
       "<Figure size 720x720 with 1 Axes>"
      ]
     },
     "metadata": {
      "needs_background": "light"
     },
     "output_type": "display_data"
    }
   ],
   "source": [
    "fig = plt.figure(figsize= (10, 10))\n",
    "ax = fig.add_subplot(111)\n",
    "\n",
    "ax.set_title(\"Box Plot of Sales by Promotion\", fontsize= 20)\n",
    "ax.set\n",
    "\n",
    "data = [df['SalesInThousands'][df.Promotion == 1],\n",
    "        df['SalesInThousands'][df.Promotion == 2],\n",
    "        df['SalesInThousands'][df.Promotion == 3]]\n",
    "\n",
    "ax.boxplot(data,\n",
    "           labels= ['1', '2', '3'],\n",
    "           showmeans= True)\n",
    "\n",
    "plt.xlabel(\"Promotion\")\n",
    "plt.ylabel(\"Sales ('000)\")\n",
    "\n",
    "plt.show()"
   ]
  },
  {
   "cell_type": "markdown",
   "metadata": {},
   "source": [
    "The three boxplots show that there is very little difference in spread between Promotion 1 & 3 while there is great difference of whisker between Promotion 2 and Promotion (1&3). The median and interquartile range are almost identical among them.\n",
    "\n",
    "All promotions had many outliers that were fairly spread out\n",
    "* Where do the outliers come from? Are they from different markets --> further test can be conducted, but it's out of our current scope"
   ]
  },
  {
   "cell_type": "code",
   "execution_count": 78,
   "metadata": {},
   "outputs": [
    {
     "data": {
      "text/html": [
       "<table class=\"simpletable\">\n",
       "<caption>Multiple Comparison of Means - Tukey HSD, FWER=0.05</caption>\n",
       "<tr>\n",
       "  <th>group1</th> <th>group2</th> <th>meandiff</th>  <th>p-adj</th>  <th>lower</th>   <th>upper</th>  <th>reject</th>\n",
       "</tr>\n",
       "<tr>\n",
       "     <td>1</td>      <td>2</td>   <td>-10.7696</td>  <td>0.001</td> <td>-14.774</td> <td>-6.7652</td>  <td>True</td> \n",
       "</tr>\n",
       "<tr>\n",
       "     <td>1</td>      <td>3</td>    <td>-2.7345</td> <td>0.2447</td> <td>-6.7389</td> <td>1.2698</td>   <td>False</td>\n",
       "</tr>\n",
       "<tr>\n",
       "     <td>2</td>      <td>3</td>    <td>8.0351</td>   <td>0.001</td> <td>4.1207</td>  <td>11.9494</td>  <td>True</td> \n",
       "</tr>\n",
       "</table>"
      ],
      "text/plain": [
       "<class 'statsmodels.iolib.table.SimpleTable'>"
      ]
     },
     "execution_count": 78,
     "metadata": {},
     "output_type": "execute_result"
    }
   ],
   "source": [
    "import statsmodels.stats.multicomp as mc\n",
    "from statsmodels.stats.multicomp import pairwise_tukeyhsd\n",
    "\n",
    "comp = mc.MultiComparison(df['SalesInThousands'], df['Promotion'])\n",
    "post_hoc_res = comp.tukeyhsd()\n",
    "post_hoc_res.summary()"
   ]
  },
  {
   "cell_type": "code",
   "execution_count": 150,
   "metadata": {},
   "outputs": [
    {
     "data": {
      "image/png": "[encoded data removed]",
      "text/plain": [
       "<Figure size 720x432 with 1 Axes>"
      ]
     },
     "execution_count": 150,
     "metadata": {},
     "output_type": "execute_result"
    },
    {
     "data": {
      "image/png": "[encoded data removed]",
      "text/plain": [
       "<Figure size 720x432 with 1 Axes>"
      ]
     },
     "metadata": {
      "needs_background": "light"
     },
     "output_type": "display_data"
    }
   ],
   "source": [
    "post_hoc_res.plot_simultaneous(ylabel= \"Promotion\", xlabel= \"Sales ('000)\")"
   ]
  },
  {
   "cell_type": "markdown",
   "metadata": {},
   "source": [
    "# Interpretation\n",
    "Using Tukey HSD to test for differences between Promotions indicates that there is a statistically significant difference in Sales('000) between Promotion 1 and Promotion 2 as well as between Promotion 2 and Promotion 3 while there is no significant difference between Promotion 1 and Promotion 3. What this indicates is that the Promotion 1 and Promotion 3 are effective at increasing sales, but Promotion 2 is not."
   ]
  },
  {
   "cell_type": "code",
   "execution_count": 82,
   "metadata": {},
   "outputs": [
    {
     "name": "stdout",
     "output_type": "stream",
     "text": [
      "Multiple Comparison of Means - Tukey HSD, FWER=0.05 \n",
      "====================================================\n",
      "group1 group2 meandiff p-adj   lower   upper  reject\n",
      "----------------------------------------------------\n",
      "     1      2 -10.7696  0.001 -14.774 -6.7652   True\n",
      "     1      3  -2.7345 0.2447 -6.7389  1.2698  False\n",
      "     2      3   8.0351  0.001  4.1207 11.9494   True\n",
      "----------------------------------------------------\n"
     ]
    }
   ],
   "source": [
    "#Alternatives to pairwise_tukeyhsd\n",
    "tukey_results = pairwise_tukeyhsd(df['SalesInThousands'], df['Promotion'], 0.05)\n",
    "print(tukey_results)\n",
    "# p-values need to be adjusted for multiple testing due to more than 2 promotions"
   ]
  },
  {
   "cell_type": "markdown",
   "metadata": {},
   "source": [
    "# Conclusion\n",
    "Promotion 2 should NOT be run."
   ]
  },
  {
   "cell_type": "markdown",
   "metadata": {},
   "source": [
    "# What else can we do now?\n",
    "1. We can run another test with promotion 1 & promotion 3 only to see if we can get statistically significant result.\n",
    "2. Since we don't have enough statistical evidence to say either Promotion 1 or 3 is better, we can accept that both offer equally well and compare each promotion to without promotion (Control Test) during the time the offer run. If the promotion generates average sales higher than without promotion (using the hypothesis testing mentioned above), we can choose to run either or both promotions."
   ]
  },
  {
   "cell_type": "markdown",
   "metadata": {},
   "source": [
    "It appeared in group 1 there were some stores that had slight differences than those stores\n",
    "in the other groups e.g. some were slightly\n",
    "younger\n",
    "it may not have made a difference but we should try to control for this."
   ]
  },
  {
   "cell_type": "markdown",
   "metadata": {},
   "source": [
    "# Miscelleneous\n",
    "Budgets are tight. The cost to roll out a full promotion can wipe out an entire marketing budget if it proves to be a fiasco. This is why many businesses do a test before doing a complete rollout. The testing helps to reduce the amount of uncertainty involved in an all-out campaign and help business make an informed-decision."
   ]
  }
 ],
 "metadata": {
  "kernelspec": {
   "display_name": "Python 3",
   "language": "python",
   "name": "python3"
  },
  "language_info": {
   "codemirror_mode": {
    "name": "ipython",
    "version": 3
   },
   "file_extension": ".py",
   "mimetype": "text/x-python",
   "name": "python",
   "nbconvert_exporter": "python",
   "pygments_lexer": "ipython3",
   "version": "3.7.3"
  }
 },
 "nbformat": 4,
 "nbformat_minor": 2
}
