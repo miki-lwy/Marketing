{
 "cells": [
  {
   "cell_type": "code",
   "execution_count": 1,
   "metadata": {},
   "outputs": [
    {
     "name": "stdout",
     "output_type": "stream",
     "text": [
      "IBM Watson Marketing AB Test - ANOVA model.ipynb\r\n",
      "Marketing A_B_test_with_public_dataset.ipynb\r\n"
     ]
    }
   ],
   "source": [
    "#What's in my workspace?\n",
    "!ls"
   ]
  },
  {
   "cell_type": "code",
   "execution_count": 2,
   "metadata": {},
   "outputs": [],
   "source": [
    "#import libraries\n",
    "import pandas as pd\n",
    "import numpy as np\n",
    "import requests\n",
    "import scipy.stats as stats\n",
    "import statsmodels.api as sm\n",
    "from statsmodels.formula.api import ols\n",
    "import matplotlib.pyplot as plt\n",
    "from statsmodels.stats.multicomp import (pairwise_tukeyhsd,\n",
    "                                         MultiComparison)"
   ]
  },
  {
   "cell_type": "code",
   "execution_count": 3,
   "metadata": {},
   "outputs": [
    {
     "name": "stdout",
     "output_type": "stream",
     "text": [
      "   MarketID MarketSize  LocationID  AgeOfStore  Promotion  week  \\\n",
      "0         1     Medium           1           4          3     1   \n",
      "1         1     Medium           1           4          3     2   \n",
      "2         1     Medium           1           4          3     3   \n",
      "3         1     Medium           1           4          3     4   \n",
      "4         1     Medium           2           5          2     1   \n",
      "\n",
      "   SalesInThousands  \n",
      "0             33.73  \n",
      "1             35.67  \n",
      "2             29.03  \n",
      "3             39.25  \n",
      "4             27.81  \n"
     ]
    }
   ],
   "source": [
    "#Read data file into object called df\n",
    "#I'm reading this file directly from the web\n",
    "df = pd.read_csv(\"https://raw.githubusercontent.com/pthiagu2/DataMining/master/WA_Fn-UseC_-Marketing-Campaign-Eff-UseC_-FastF.csv\")\n",
    "\n",
    "print(df.head(5))"
   ]
  },
  {
   "cell_type": "code",
   "execution_count": 4,
   "metadata": {},
   "outputs": [
    {
     "name": "stdout",
     "output_type": "stream",
     "text": [
      "<class 'pandas.core.frame.DataFrame'>\n",
      "RangeIndex: 548 entries, 0 to 547\n",
      "Data columns (total 7 columns):\n",
      "MarketID            548 non-null int64\n",
      "MarketSize          548 non-null object\n",
      "LocationID          548 non-null int64\n",
      "AgeOfStore          548 non-null int64\n",
      "Promotion           548 non-null int64\n",
      "week                548 non-null int64\n",
      "SalesInThousands    548 non-null float64\n",
      "dtypes: float64(1), int64(5), object(1)\n",
      "memory usage: 30.0+ KB\n",
      "None\n"
     ]
    }
   ],
   "source": [
    "# Check column data types and non-missing values\n",
    "print(df.info())"
   ]
  },
  {
   "cell_type": "code",
   "execution_count": 5,
   "metadata": {},
   "outputs": [
    {
     "name": "stdout",
     "output_type": "stream",
     "text": [
      "         MarketID  LocationID  AgeOfStore   Promotion        week  \\\n",
      "count  548.000000  548.000000  548.000000  548.000000  548.000000   \n",
      "mean     5.715328  479.656934    8.503650    2.029197    2.500000   \n",
      "std      2.877001  287.973679    6.638345    0.810729    1.119055   \n",
      "min      1.000000    1.000000    1.000000    1.000000    1.000000   \n",
      "25%      3.000000  216.000000    4.000000    1.000000    1.750000   \n",
      "50%      6.000000  504.000000    7.000000    2.000000    2.500000   \n",
      "75%      8.000000  708.000000   12.000000    3.000000    3.250000   \n",
      "max     10.000000  920.000000   28.000000    3.000000    4.000000   \n",
      "\n",
      "       SalesInThousands  \n",
      "count        548.000000  \n",
      "mean          53.466204  \n",
      "std           16.755216  \n",
      "min           17.340000  \n",
      "25%           42.545000  \n",
      "50%           50.200000  \n",
      "75%           60.477500  \n",
      "max           99.650000  \n"
     ]
    }
   ],
   "source": [
    "#Summary statistics\n",
    "print(df.describe())"
   ]
  },
  {
   "cell_type": "code",
   "execution_count": 6,
   "metadata": {},
   "outputs": [
    {
     "data": {
      "text/html": [
       "<div>\n",
       "<style scoped>\n",
       "    .dataframe tbody tr th:only-of-type {\n",
       "        vertical-align: middle;\n",
       "    }\n",
       "\n",
       "    .dataframe tbody tr th {\n",
       "        vertical-align: top;\n",
       "    }\n",
       "\n",
       "    .dataframe thead th {\n",
       "        text-align: right;\n",
       "    }\n",
       "</style>\n",
       "<table border=\"1\" class=\"dataframe\">\n",
       "  <thead>\n",
       "    <tr style=\"text-align: right;\">\n",
       "      <th></th>\n",
       "      <th>count</th>\n",
       "      <th>mean</th>\n",
       "      <th>std</th>\n",
       "      <th>min</th>\n",
       "      <th>25%</th>\n",
       "      <th>50%</th>\n",
       "      <th>75%</th>\n",
       "      <th>max</th>\n",
       "    </tr>\n",
       "    <tr>\n",
       "      <th>Promotion</th>\n",
       "      <th></th>\n",
       "      <th></th>\n",
       "      <th></th>\n",
       "      <th></th>\n",
       "      <th></th>\n",
       "      <th></th>\n",
       "      <th></th>\n",
       "      <th></th>\n",
       "    </tr>\n",
       "  </thead>\n",
       "  <tbody>\n",
       "    <tr>\n",
       "      <th>1</th>\n",
       "      <td>172.0</td>\n",
       "      <td>8.279070</td>\n",
       "      <td>6.636160</td>\n",
       "      <td>1.0</td>\n",
       "      <td>3.0</td>\n",
       "      <td>6.0</td>\n",
       "      <td>12.0</td>\n",
       "      <td>27.0</td>\n",
       "    </tr>\n",
       "    <tr>\n",
       "      <th>2</th>\n",
       "      <td>188.0</td>\n",
       "      <td>7.978723</td>\n",
       "      <td>6.597648</td>\n",
       "      <td>1.0</td>\n",
       "      <td>3.0</td>\n",
       "      <td>7.0</td>\n",
       "      <td>10.0</td>\n",
       "      <td>28.0</td>\n",
       "    </tr>\n",
       "    <tr>\n",
       "      <th>3</th>\n",
       "      <td>188.0</td>\n",
       "      <td>9.234043</td>\n",
       "      <td>6.651646</td>\n",
       "      <td>1.0</td>\n",
       "      <td>5.0</td>\n",
       "      <td>8.0</td>\n",
       "      <td>12.0</td>\n",
       "      <td>24.0</td>\n",
       "    </tr>\n",
       "  </tbody>\n",
       "</table>\n",
       "</div>"
      ],
      "text/plain": [
       "           count      mean       std  min  25%  50%   75%   max\n",
       "Promotion                                                      \n",
       "1          172.0  8.279070  6.636160  1.0  3.0  6.0  12.0  27.0\n",
       "2          188.0  7.978723  6.597648  1.0  3.0  7.0  10.0  28.0\n",
       "3          188.0  9.234043  6.651646  1.0  5.0  8.0  12.0  24.0"
      ]
     },
     "execution_count": 6,
     "metadata": {},
     "output_type": "execute_result"
    }
   ],
   "source": [
    "#Summary statistics of Age of store grouped by promotion\n",
    "df.groupby('Promotion')['AgeOfStore'].describe()\n",
    "\n"
   ]
  },
  {
   "cell_type": "code",
   "execution_count": 7,
   "metadata": {},
   "outputs": [
    {
     "data": {
      "text/html": [
       "<div>\n",
       "<style scoped>\n",
       "    .dataframe tbody tr th:only-of-type {\n",
       "        vertical-align: middle;\n",
       "    }\n",
       "\n",
       "    .dataframe tbody tr th {\n",
       "        vertical-align: top;\n",
       "    }\n",
       "\n",
       "    .dataframe thead th {\n",
       "        text-align: right;\n",
       "    }\n",
       "</style>\n",
       "<table border=\"1\" class=\"dataframe\">\n",
       "  <thead>\n",
       "    <tr style=\"text-align: right;\">\n",
       "      <th></th>\n",
       "      <th>count</th>\n",
       "      <th>mean</th>\n",
       "      <th>std</th>\n",
       "      <th>min</th>\n",
       "      <th>25%</th>\n",
       "      <th>50%</th>\n",
       "      <th>75%</th>\n",
       "      <th>max</th>\n",
       "    </tr>\n",
       "    <tr>\n",
       "      <th>Promotion</th>\n",
       "      <th></th>\n",
       "      <th></th>\n",
       "      <th></th>\n",
       "      <th></th>\n",
       "      <th></th>\n",
       "      <th></th>\n",
       "      <th></th>\n",
       "      <th></th>\n",
       "    </tr>\n",
       "  </thead>\n",
       "  <tbody>\n",
       "    <tr>\n",
       "      <th>1</th>\n",
       "      <td>172.0</td>\n",
       "      <td>2.5</td>\n",
       "      <td>1.121298</td>\n",
       "      <td>1.0</td>\n",
       "      <td>1.75</td>\n",
       "      <td>2.5</td>\n",
       "      <td>3.25</td>\n",
       "      <td>4.0</td>\n",
       "    </tr>\n",
       "    <tr>\n",
       "      <th>2</th>\n",
       "      <td>188.0</td>\n",
       "      <td>2.5</td>\n",
       "      <td>1.121019</td>\n",
       "      <td>1.0</td>\n",
       "      <td>1.75</td>\n",
       "      <td>2.5</td>\n",
       "      <td>3.25</td>\n",
       "      <td>4.0</td>\n",
       "    </tr>\n",
       "    <tr>\n",
       "      <th>3</th>\n",
       "      <td>188.0</td>\n",
       "      <td>2.5</td>\n",
       "      <td>1.121019</td>\n",
       "      <td>1.0</td>\n",
       "      <td>1.75</td>\n",
       "      <td>2.5</td>\n",
       "      <td>3.25</td>\n",
       "      <td>4.0</td>\n",
       "    </tr>\n",
       "  </tbody>\n",
       "</table>\n",
       "</div>"
      ],
      "text/plain": [
       "           count  mean       std  min   25%  50%   75%  max\n",
       "Promotion                                                  \n",
       "1          172.0   2.5  1.121298  1.0  1.75  2.5  3.25  4.0\n",
       "2          188.0   2.5  1.121019  1.0  1.75  2.5  3.25  4.0\n",
       "3          188.0   2.5  1.121019  1.0  1.75  2.5  3.25  4.0"
      ]
     },
     "execution_count": 7,
     "metadata": {},
     "output_type": "execute_result"
    }
   ],
   "source": [
    "#Summary statistics of weeks by promotion\n",
    "df.groupby('Promotion')['week'].describe()"
   ]
  },
  {
   "cell_type": "code",
   "execution_count": 8,
   "metadata": {},
   "outputs": [
    {
     "data": {
      "text/html": [
       "<div>\n",
       "<style scoped>\n",
       "    .dataframe tbody tr th:only-of-type {\n",
       "        vertical-align: middle;\n",
       "    }\n",
       "\n",
       "    .dataframe tbody tr th {\n",
       "        vertical-align: top;\n",
       "    }\n",
       "\n",
       "    .dataframe thead th {\n",
       "        text-align: right;\n",
       "    }\n",
       "</style>\n",
       "<table border=\"1\" class=\"dataframe\">\n",
       "  <thead>\n",
       "    <tr style=\"text-align: right;\">\n",
       "      <th></th>\n",
       "      <th>count</th>\n",
       "      <th>mean</th>\n",
       "      <th>std</th>\n",
       "      <th>min</th>\n",
       "      <th>25%</th>\n",
       "      <th>50%</th>\n",
       "      <th>75%</th>\n",
       "      <th>max</th>\n",
       "    </tr>\n",
       "    <tr>\n",
       "      <th>Promotion</th>\n",
       "      <th></th>\n",
       "      <th></th>\n",
       "      <th></th>\n",
       "      <th></th>\n",
       "      <th></th>\n",
       "      <th></th>\n",
       "      <th></th>\n",
       "      <th></th>\n",
       "    </tr>\n",
       "  </thead>\n",
       "  <tbody>\n",
       "    <tr>\n",
       "      <th>1</th>\n",
       "      <td>172.0</td>\n",
       "      <td>58.099012</td>\n",
       "      <td>16.553782</td>\n",
       "      <td>30.81</td>\n",
       "      <td>46.3525</td>\n",
       "      <td>55.385</td>\n",
       "      <td>63.6175</td>\n",
       "      <td>99.65</td>\n",
       "    </tr>\n",
       "    <tr>\n",
       "      <th>2</th>\n",
       "      <td>188.0</td>\n",
       "      <td>47.329415</td>\n",
       "      <td>15.108955</td>\n",
       "      <td>17.34</td>\n",
       "      <td>38.1700</td>\n",
       "      <td>45.385</td>\n",
       "      <td>51.7450</td>\n",
       "      <td>88.64</td>\n",
       "    </tr>\n",
       "    <tr>\n",
       "      <th>3</th>\n",
       "      <td>188.0</td>\n",
       "      <td>55.364468</td>\n",
       "      <td>16.766231</td>\n",
       "      <td>22.18</td>\n",
       "      <td>44.1975</td>\n",
       "      <td>51.165</td>\n",
       "      <td>61.7325</td>\n",
       "      <td>96.48</td>\n",
       "    </tr>\n",
       "  </tbody>\n",
       "</table>\n",
       "</div>"
      ],
      "text/plain": [
       "           count       mean        std    min      25%     50%      75%    max\n",
       "Promotion                                                                     \n",
       "1          172.0  58.099012  16.553782  30.81  46.3525  55.385  63.6175  99.65\n",
       "2          188.0  47.329415  15.108955  17.34  38.1700  45.385  51.7450  88.64\n",
       "3          188.0  55.364468  16.766231  22.18  44.1975  51.165  61.7325  96.48"
      ]
     },
     "execution_count": 8,
     "metadata": {},
     "output_type": "execute_result"
    }
   ],
   "source": [
    "#Summary statistics of sales by promotion\n",
    "df.groupby('Promotion')['SalesInThousands'].describe()"
   ]
  },
  {
   "cell_type": "code",
   "execution_count": 9,
   "metadata": {},
   "outputs": [
    {
     "data": {
      "text/html": [
       "<div>\n",
       "<style scoped>\n",
       "    .dataframe tbody tr th:only-of-type {\n",
       "        vertical-align: middle;\n",
       "    }\n",
       "\n",
       "    .dataframe tbody tr th {\n",
       "        vertical-align: top;\n",
       "    }\n",
       "\n",
       "    .dataframe thead th {\n",
       "        text-align: right;\n",
       "    }\n",
       "</style>\n",
       "<table border=\"1\" class=\"dataframe\">\n",
       "  <thead>\n",
       "    <tr style=\"text-align: right;\">\n",
       "      <th></th>\n",
       "      <th>Promotion</th>\n",
       "      <th>SalesInThousands</th>\n",
       "    </tr>\n",
       "  </thead>\n",
       "  <tbody>\n",
       "    <tr>\n",
       "      <th>0</th>\n",
       "      <td>1</td>\n",
       "      <td>9993.03</td>\n",
       "    </tr>\n",
       "    <tr>\n",
       "      <th>1</th>\n",
       "      <td>2</td>\n",
       "      <td>8897.93</td>\n",
       "    </tr>\n",
       "    <tr>\n",
       "      <th>2</th>\n",
       "      <td>3</td>\n",
       "      <td>10408.52</td>\n",
       "    </tr>\n",
       "  </tbody>\n",
       "</table>\n",
       "</div>"
      ],
      "text/plain": [
       "   Promotion  SalesInThousands\n",
       "0          1           9993.03\n",
       "1          2           8897.93\n",
       "2          3          10408.52"
      ]
     },
     "execution_count": 9,
     "metadata": {},
     "output_type": "execute_result"
    }
   ],
   "source": [
    "#Total sales grouped by promotion\n",
    "df.groupby('Promotion', as_index=False).agg({\"SalesInThousands\": \"sum\"})"
   ]
  },
  {
   "cell_type": "code",
   "execution_count": 10,
   "metadata": {},
   "outputs": [
    {
     "data": {
      "text/plain": [
       "MarketID  Promotion\n",
       "1         1             814.38\n",
       "          2             603.04\n",
       "          3             407.87\n",
       "2         1             262.40\n",
       "          3            1219.87\n",
       "3         1            2510.12\n",
       "          2            1910.21\n",
       "          3            3057.18\n",
       "4         1             940.85\n",
       "          2             812.97\n",
       "          3             208.47\n",
       "5         1             444.13\n",
       "          2            1469.37\n",
       "          3            1016.78\n",
       "6         1             813.30\n",
       "          2             782.31\n",
       "          3             588.24\n",
       "7         1             801.94\n",
       "          2             629.79\n",
       "          3            1236.79\n",
       "8         1            1022.80\n",
       "          2             339.98\n",
       "          3             986.96\n",
       "9         1             680.02\n",
       "          2             399.86\n",
       "          3            1037.75\n",
       "10        1            1703.09\n",
       "          2            1950.40\n",
       "          3             648.61\n",
       "Name: SalesInThousands, dtype: float64"
      ]
     },
     "execution_count": 10,
     "metadata": {},
     "output_type": "execute_result"
    }
   ],
   "source": [
    "total_sales = df.groupby(['MarketID', 'Promotion'])['SalesInThousands'].sum()\n",
    "total_sales"
   ]
  },
  {
   "cell_type": "code",
   "execution_count": 11,
   "metadata": {},
   "outputs": [
    {
     "name": "stdout",
     "output_type": "stream",
     "text": [
      "week  Promotion\n",
      "1     1            2504.51\n",
      "      2            2243.32\n",
      "      3            2621.48\n",
      "2     1            2447.97\n",
      "      2            2236.38\n",
      "      3            2629.61\n",
      "3     1            2527.32\n",
      "      2            2242.94\n",
      "      3            2555.76\n",
      "4     1            2513.23\n",
      "      2            2175.29\n",
      "      3            2601.67\n",
      "Name: SalesInThousands, dtype: float64\n"
     ]
    }
   ],
   "source": [
    "#Total sales grouped by week and promotion\n",
    "total_sales = df.groupby(['week', 'Promotion'])['SalesInThousands'].sum()\n",
    "print(total_sales)"
   ]
  },
  {
   "cell_type": "code",
   "execution_count": 12,
   "metadata": {},
   "outputs": [
    {
     "name": "stdout",
     "output_type": "stream",
     "text": [
      "week  Promotion\n",
      "1     1            58.244419\n",
      "      2            47.730213\n",
      "      3            55.776170\n",
      "2     1            56.929535\n",
      "      2            47.582553\n",
      "      3            55.949149\n",
      "3     1            58.774884\n",
      "      2            47.722128\n",
      "      3            54.377872\n",
      "4     1            58.447209\n",
      "      2            46.282766\n",
      "      3            55.354681\n",
      "Name: SalesInThousands, dtype: float64\n"
     ]
    }
   ],
   "source": [
    "#Mean sales grouped by week and promotion\n",
    "avg_sales = df.groupby(['week', 'Promotion'])['SalesInThousands'].mean()\n",
    "print(avg_sales)"
   ]
  },
  {
   "cell_type": "code",
   "execution_count": 13,
   "metadata": {},
   "outputs": [
    {
     "name": "stdout",
     "output_type": "stream",
     "text": [
      "               SalesInThousands                                             \n",
      "                            min       mean median    max        std      sum\n",
      "Promotion week                                                              \n",
      "1         1               35.30  58.244419  53.79  99.65  16.798929  2504.51\n",
      "          2               35.86  56.929535  55.11  96.01  16.553088  2447.97\n",
      "          3               32.05  58.774884  56.19  99.12  16.423121  2527.32\n",
      "          4               30.81  58.447209  56.84  97.61  16.962984  2513.23\n",
      "2         1               27.81  47.730213  46.02  88.64  14.387406  2243.32\n",
      "          2               17.34  47.582553  45.75  82.86  14.854098  2236.38\n",
      "          3               23.93  47.722128  45.35  88.12  15.979831  2242.94\n",
      "          4               19.26  46.282766  44.84  80.75  15.604704  2175.29\n",
      "3         1               24.75  55.776170  51.01  96.48  18.071909  2621.48\n",
      "          2               22.18  55.949149  53.47  90.30  15.643490  2629.61\n",
      "          3               29.03  54.377872  50.55  93.63  17.219269  2555.76\n",
      "          4               26.68  55.354681  50.05  94.21  16.535599  2601.67\n"
     ]
    }
   ],
   "source": [
    "#Examine sales data grouped by promo and week\n",
    "#group the data\n",
    "grouped_promo_data = df.groupby(by=['Promotion', 'week'])\n",
    "\n",
    "#aggregate the data\n",
    "promo_summary = grouped_promo_data.agg({'SalesInThousands':['min', 'mean', 'median', 'max', 'std', 'sum']})\n",
    "\n",
    "#examine the results\n",
    "print(promo_summary)"
   ]
  },
  {
   "cell_type": "code",
   "execution_count": 14,
   "metadata": {},
   "outputs": [
    {
     "name": "stdout",
     "output_type": "stream",
     "text": [
      "          AgeOfStore                               \n",
      "                 min      mean median max       std\n",
      "Promotion                                          \n",
      "1                  1  8.279070      6  27  6.636160\n",
      "2                  1  7.978723      7  28  6.597648\n",
      "3                  1  9.234043      8  24  6.651646\n"
     ]
    }
   ],
   "source": [
    "#Examine the store characteristics grouped by promo\n",
    "#group the data\n",
    "grouped_store_data = df.groupby(by=['Promotion'])\n",
    "\n",
    "#aggregate the data\n",
    "store_summary = grouped_store_data.agg({'AgeOfStore':['min', 'mean', 'median', 'max', 'std']})\n",
    "\n",
    "#examine the results\n",
    "print(store_summary)"
   ]
  },
  {
   "cell_type": "code",
   "execution_count": 15,
   "metadata": {},
   "outputs": [],
   "source": [
    "#We need to treat the promotion variable as a category and not a numeric variable - create a factor type variable\n",
    "df['Promotion'] = df['Promotion'].astype('category')"
   ]
  },
  {
   "cell_type": "code",
   "execution_count": 16,
   "metadata": {},
   "outputs": [
    {
     "data": {
      "text/html": [
       "<table class=\"simpletable\">\n",
       "<caption>OLS Regression Results</caption>\n",
       "<tr>\n",
       "  <th>Dep. Variable:</th>    <td>SalesInThousands</td> <th>  R-squared:         </th> <td>   0.075</td>\n",
       "</tr>\n",
       "<tr>\n",
       "  <th>Model:</th>                   <td>OLS</td>       <th>  Adj. R-squared:    </th> <td>   0.071</td>\n",
       "</tr>\n",
       "<tr>\n",
       "  <th>Method:</th>             <td>Least Squares</td>  <th>  F-statistic:       </th> <td>   21.95</td>\n",
       "</tr>\n",
       "<tr>\n",
       "  <th>Date:</th>             <td>Thu, 18 Jun 2020</td> <th>  Prob (F-statistic):</th> <td>6.77e-10</td>\n",
       "</tr>\n",
       "<tr>\n",
       "  <th>Time:</th>                 <td>16:10:01</td>     <th>  Log-Likelihood:    </th> <td> -2300.5</td>\n",
       "</tr>\n",
       "<tr>\n",
       "  <th>No. Observations:</th>      <td>   548</td>      <th>  AIC:               </th> <td>   4607.</td>\n",
       "</tr>\n",
       "<tr>\n",
       "  <th>Df Residuals:</th>          <td>   545</td>      <th>  BIC:               </th> <td>   4620.</td>\n",
       "</tr>\n",
       "<tr>\n",
       "  <th>Df Model:</th>              <td>     2</td>      <th>                     </th>     <td> </td>   \n",
       "</tr>\n",
       "<tr>\n",
       "  <th>Covariance Type:</th>      <td>nonrobust</td>    <th>                     </th>     <td> </td>   \n",
       "</tr>\n",
       "</table>\n",
       "<table class=\"simpletable\">\n",
       "<tr>\n",
       "         <td></td>           <th>coef</th>     <th>std err</th>      <th>t</th>      <th>P>|t|</th>  <th>[0.025</th>    <th>0.975]</th>  \n",
       "</tr>\n",
       "<tr>\n",
       "  <th>Intercept</th>      <td>   58.0990</td> <td>    1.231</td> <td>   47.186</td> <td> 0.000</td> <td>   55.680</td> <td>   60.518</td>\n",
       "</tr>\n",
       "<tr>\n",
       "  <th>Promotion[T.2]</th> <td>  -10.7696</td> <td>    1.704</td> <td>   -6.321</td> <td> 0.000</td> <td>  -14.116</td> <td>   -7.423</td>\n",
       "</tr>\n",
       "<tr>\n",
       "  <th>Promotion[T.3]</th> <td>   -2.7345</td> <td>    1.704</td> <td>   -1.605</td> <td> 0.109</td> <td>   -6.081</td> <td>    0.612</td>\n",
       "</tr>\n",
       "</table>\n",
       "<table class=\"simpletable\">\n",
       "<tr>\n",
       "  <th>Omnibus:</th>       <td>52.072</td> <th>  Durbin-Watson:     </th> <td>   0.251</td>\n",
       "</tr>\n",
       "<tr>\n",
       "  <th>Prob(Omnibus):</th> <td> 0.000</td> <th>  Jarque-Bera (JB):  </th> <td>  65.242</td>\n",
       "</tr>\n",
       "<tr>\n",
       "  <th>Skew:</th>          <td> 0.842</td> <th>  Prob(JB):          </th> <td>6.81e-15</td>\n",
       "</tr>\n",
       "<tr>\n",
       "  <th>Kurtosis:</th>      <td> 3.137</td> <th>  Cond. No.          </th> <td>    3.83</td>\n",
       "</tr>\n",
       "</table><br/><br/>Warnings:<br/>[1] Standard Errors assume that the covariance matrix of the errors is correctly specified."
      ],
      "text/plain": [
       "<class 'statsmodels.iolib.summary.Summary'>\n",
       "\"\"\"\n",
       "                            OLS Regression Results                            \n",
       "==============================================================================\n",
       "Dep. Variable:       SalesInThousands   R-squared:                       0.075\n",
       "Model:                            OLS   Adj. R-squared:                  0.071\n",
       "Method:                 Least Squares   F-statistic:                     21.95\n",
       "Date:                Thu, 18 Jun 2020   Prob (F-statistic):           6.77e-10\n",
       "Time:                        16:10:01   Log-Likelihood:                -2300.5\n",
       "No. Observations:                 548   AIC:                             4607.\n",
       "Df Residuals:                     545   BIC:                             4620.\n",
       "Df Model:                           2                                         \n",
       "Covariance Type:            nonrobust                                         \n",
       "==================================================================================\n",
       "                     coef    std err          t      P>|t|      [0.025      0.975]\n",
       "----------------------------------------------------------------------------------\n",
       "Intercept         58.0990      1.231     47.186      0.000      55.680      60.518\n",
       "Promotion[T.2]   -10.7696      1.704     -6.321      0.000     -14.116      -7.423\n",
       "Promotion[T.3]    -2.7345      1.704     -1.605      0.109      -6.081       0.612\n",
       "==============================================================================\n",
       "Omnibus:                       52.072   Durbin-Watson:                   0.251\n",
       "Prob(Omnibus):                  0.000   Jarque-Bera (JB):               65.242\n",
       "Skew:                           0.842   Prob(JB):                     6.81e-15\n",
       "Kurtosis:                       3.137   Cond. No.                         3.83\n",
       "==============================================================================\n",
       "\n",
       "Warnings:\n",
       "[1] Standard Errors assume that the covariance matrix of the errors is correctly specified.\n",
       "\"\"\""
      ]
     },
     "execution_count": 16,
     "metadata": {},
     "output_type": "execute_result"
    }
   ],
   "source": [
    "\"\"\"\n",
    "Let's interpret the output of the linear model\n",
    "The model is significant with the prob of F-statistic of 6.77e-10\n",
    "This tells us that there is a significant difference in the group means. \n",
    "The coefficients (coef), are the difference in mean between the promotion groups\n",
    "and the respective group listed. The intercept is the mean for the promotion group 1\n",
    "\n",
    "Looking at the p-values now (P>|t| in the table),\n",
    "we can see the difference between group 1 and group 2 is significant, p = 0.000,\n",
    "but the difference between the group 1 and group 3 is not, p = 0.109. \n",
    "\n",
    "\n",
    "Because group 1 is on the intercept we don't know where the differences\n",
    "are between all pair groupings (Group 2 and Group 3)\n",
    "\"\"\"\n",
    "import requests\n",
    "import scipy.stats as stats\n",
    "import statsmodels.api as sm\n",
    "from statsmodels.formula.api import ols\n",
    "from statsmodels.stats.multicomp import (pairwise_tukeyhsd,\n",
    "                                         MultiComparison)\n",
    "\n",
    "#Build anova model\n",
    "anova_lm = ols('SalesInThousands ~ Promotion', data=df).fit()\n",
    "\n",
    "anova_lm.summary()"
   ]
  },
  {
   "cell_type": "code",
   "execution_count": 17,
   "metadata": {},
   "outputs": [
    {
     "data": {
      "text/plain": [
       "True"
      ]
     },
     "execution_count": 17,
     "metadata": {},
     "output_type": "execute_result"
    }
   ],
   "source": [
    "#Is the p-value significant?\n",
    "6.77e-10 < 0.05"
   ]
  },
  {
   "cell_type": "code",
   "execution_count": 20,
   "metadata": {},
   "outputs": [
    {
     "data": {
      "text/plain": [
       "(0.922081708908081, 3.154390400244417e-16)"
      ]
     },
     "execution_count": 20,
     "metadata": {},
     "output_type": "execute_result"
    }
   ],
   "source": [
    "stats.shapiro(anova_lm.resid)"
   ]
  },
  {
   "cell_type": "code",
   "execution_count": 21,
   "metadata": {},
   "outputs": [
    {
     "data": {
      "image/png": "[encoded data removed]",
      "text/plain": [
       "<Figure size 720x720 with 1 Axes>"
      ]
     },
     "metadata": {
      "needs_background": "light"
     },
     "output_type": "display_data"
    }
   ],
   "source": [
    "fig = plt.figure(figsize= (10, 10))\n",
    "ax = fig.add_subplot(111)\n",
    "\n",
    "normality_plot, stat = stats.probplot(anova_lm.resid, plot= plt, rvalue= True)\n",
    "ax.set_title(\"Probability plot of model residual's\", fontsize= 20)\n",
    "ax.set\n",
    "\n",
    "plt.show()"
   ]
  },
  {
   "cell_type": "code",
   "execution_count": 18,
   "metadata": {},
   "outputs": [
    {
     "name": "stdout",
     "output_type": "stream",
     "text": [
      "Multiple Comparison of Means - Tukey HSD, FWER=0.05 \n",
      "====================================================\n",
      "group1 group2 meandiff p-adj   lower   upper  reject\n",
      "----------------------------------------------------\n",
      "     1      2 -10.7696  0.001 -14.774 -6.7652   True\n",
      "     1      3  -2.7345 0.2447 -6.7389  1.2698  False\n",
      "     2      3   8.0351  0.001  4.1207 11.9494   True\n",
      "----------------------------------------------------\n"
     ]
    }
   ],
   "source": [
    "\"\"\"\n",
    "Post-Hoc testing\n",
    "\n",
    "Assuming your F value is significant, which it is, you can run the post hoc test.\n",
    "https://www.statisticshowto.com/tukey-test-honest-significant-difference/\n",
    "\n",
    "After you have run an ANOVA and found significant results,\n",
    "then you can run Tukey’s HSD to find out which specific groups’s means (compared with each other)\n",
    "are different. The test compares all possible pairs of means.\n",
    "\n",
    "Assumptions for the test\n",
    "-Observations are independent within and among groups.\n",
    "-The groups for each mean in the test are normally distributed.\n",
    "-There is equal within-group variance across the groups\n",
    "associated with each mean in the test (homogeneity of variance).\n",
    "\n",
    "\"\"\"\n",
    "# Set up the data for comparison\n",
    "posthoc = MultiComparison(df['SalesInThousands'],\n",
    "                            df['Promotion'])\n",
    "\n",
    "# Print all pair-wise comparisons:\n",
    "print(posthoc.tukeyhsd().summary())\n",
    "#A results of ’reject = True’ means that a significant difference has been observed."
   ]
  },
  {
   "cell_type": "code",
   "execution_count": 19,
   "metadata": {},
   "outputs": [
    {
     "data": {
      "text/plain": [
       "\" Summary: What should you tell the marketing &/or sales team?\\n\\nLet's run again with just promotion 1 & 3 to\\nsee if we can get a significant result.\\n\\nIt appeared in group 1 there were some stores that had slight differences than those stores\\nin the other groups e.g. some were slightly\\nyounger\\nit may not have made a difference but we should try to control for this.\\n\""
      ]
     },
     "execution_count": 19,
     "metadata": {},
     "output_type": "execute_result"
    }
   ],
   "source": [
    "\"\"\" Summary: What should you tell the marketing &/or sales team?\n",
    "\n",
    "Let's run again with just promotion 1 & 3 to\n",
    "see if we can get a significant result.\n",
    "\n",
    "It appeared in group 1 there were some stores that had slight differences than those stores\n",
    "in the other groups e.g. some were slightly\n",
    "younger\n",
    "it may not have made a difference but we should try to control for this.\n",
    "\"\"\""
   ]
  }
 ],
 "metadata": {
  "kernelspec": {
   "display_name": "Python 3",
   "language": "python",
   "name": "python3"
  },
  "language_info": {
   "codemirror_mode": {
    "name": "ipython",
    "version": 3
   },
   "file_extension": ".py",
   "mimetype": "text/x-python",
   "name": "python",
   "nbconvert_exporter": "python",
   "pygments_lexer": "ipython3",
   "version": "3.7.3"
  }
 },
 "nbformat": 4,
 "nbformat_minor": 2
}
